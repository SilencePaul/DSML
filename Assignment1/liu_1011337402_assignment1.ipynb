{
 "cells": [
  {
   "cell_type": "markdown",
   "metadata": {},
   "source": [
    "Load and Inspect Data"
   ]
  },
  {
   "cell_type": "code",
   "execution_count": null,
   "metadata": {},
   "outputs": [
    {
     "ename": "",
     "evalue": "",
     "output_type": "error",
     "traceback": [
      "\u001b[1;31mRunning cells with 'Python 3.13.0' requires the ipykernel package.\n",
      "\u001b[1;31mRun the following command to install 'ipykernel' into the Python environment. \n",
      "\u001b[1;31mCommand: '/opt/homebrew/bin/python3 -m pip install ipykernel -U --user --force-reinstall'"
     ]
    }
   ],
   "source": [
    "import pandas as pd\n",
    "import numpy as np\n",
    "import matplotlib.pyplot as plt\n",
    "import seaborn as sns\n",
    "import warnings \n",
    "warnings.filterwarnings(\"ignore\")\n",
    "\n",
    "# Load the data\n",
    "df = pd.read_csv('clean_kaggle_data_2024.csv')\n",
    "df.info()"
   ]
  },
  {
   "cell_type": "code",
   "execution_count": null,
   "metadata": {},
   "outputs": [],
   "source": [
    "df.head()"
   ]
  },
  {
   "cell_type": "markdown",
   "metadata": {},
   "source": [
    "Q1"
   ]
  },
  {
   "cell_type": "code",
   "execution_count": null,
   "metadata": {},
   "outputs": [],
   "source": [
    "# Convert salary column to numeric, handling errors and missing values\n",
    "df['ConvertedCompYearly'] = pd.to_numeric(df['ConvertedCompYearly'], errors='coerce')\n",
    "\n",
    "# Plot 1: Salary distribution by Remote Work Status\n",
    "plt.figure(figsize=(10, 6))\n",
    "sns.boxplot(data=df, x=\"RemoteWork\", y=\"ConvertedCompYearly\", palette=\"coolwarm\", showfliers=False)\n",
    "plt.yscale(\"log\")  # Log scale for better visualization\n",
    "plt.title(\"Salary Distribution by Remote Work Status\")\n",
    "plt.xlabel(\"Remote Work Type\")\n",
    "plt.ylabel(\"Salary (log scale)\")\n",
    "plt.xticks(rotation=45)\n",
    "plt.grid(True, which=\"both\", linestyle=\"--\", linewidth=0.5)\n",
    "plt.show()\n"
   ]
  },
  {
   "cell_type": "code",
   "execution_count": null,
   "metadata": {},
   "outputs": [],
   "source": [
    "# Select top 5 countries by number of respondents for better visualization\n",
    "top_countries = df['Country'].value_counts().nlargest(5).index\n",
    "df_top_countries = df[df['Country'].isin(top_countries)]\n",
    "\n",
    "# Plot 2: Salary distribution by country\n",
    "plt.figure(figsize=(12, 6))\n",
    "sns.boxplot(data=df_top_countries, x=\"Country\", y=\"ConvertedCompYearly\", palette=\"viridis\")\n",
    "plt.yscale(\"log\")  # Log scale for better visualization\n",
    "plt.title(\"Salary Distribution by Country\")\n",
    "plt.xlabel(\"Country\")\n",
    "plt.ylabel(\"Salary (log scale)\")\n",
    "plt.xticks(rotation=45)\n",
    "plt.grid(True, which=\"both\", linestyle=\"--\", linewidth=0.5)\n",
    "plt.show()\n"
   ]
  },
  {
   "cell_type": "code",
   "execution_count": null,
   "metadata": {},
   "outputs": [],
   "source": [
    "# Select top education levels for better visualization\n",
    "top_edu_levels = df['EdLevel'].value_counts().nlargest(5).index\n",
    "df_top_edu = df[df['EdLevel'].isin(top_edu_levels)]\n",
    "\n",
    "# Plot 3: Education Level vs. Salary\n",
    "plt.figure(figsize=(12, 6))\n",
    "sns.boxplot(data=df_top_edu, x=\"EdLevel\", y=\"ConvertedCompYearly\", palette=\"magma\")\n",
    "plt.yscale(\"log\")  # Log scale for better visualization\n",
    "plt.title(\"Salary Distribution by Education Level\")\n",
    "plt.xlabel(\"Education Level\")\n",
    "plt.ylabel(\"Salary (log scale)\")\n",
    "plt.xticks(rotation=45)\n",
    "plt.grid(True, which=\"both\", linestyle=\"--\", linewidth=0.5)\n",
    "plt.show()\n"
   ]
  },
  {
   "cell_type": "markdown",
   "metadata": {},
   "source": [
    "Q2"
   ]
  },
  {
   "cell_type": "markdown",
   "metadata": {},
   "source": [
    "a. use Intterquartile Range method to define the outliers and filter out the outliers"
   ]
  },
  {
   "cell_type": "code",
   "execution_count": null,
   "metadata": {},
   "outputs": [],
   "source": [
    "# Filter for Remote and Hybrid workers\n",
    "df_filtered = df[df['RemoteWork'].isin(['Remote', 'Hybrid'])].copy()\n",
    "\n",
    "# Define a function to detect outliers\n",
    "def find_outliers(group):\n",
    "    q1 = group['ConvertedCompYearly'].quantile(0.25)\n",
    "    q3 = group['ConvertedCompYearly'].quantile(0.75)\n",
    "    iqr = q3 - q1\n",
    "    lower_bound = q1 - 1.5 * iqr\n",
    "    upper_bound = q3 + 1.5 * iqr\n",
    "    return group[(group['ConvertedCompYearly'] < lower_bound) | (group['ConvertedCompYearly'] > upper_bound)]\n",
    "\n",
    "# Find outliers for Remote and Hybrid groups\n",
    "outliers_remote = find_outliers(df_filtered[df_filtered['RemoteWork'] == 'Remote'])\n",
    "outliers_hybrid = find_outliers(df_filtered[df_filtered['RemoteWork'] == 'Hybrid'])\n",
    "\n",
    "# Combine results\n",
    "outliers = pd.concat([outliers_remote, outliers_hybrid])"
   ]
  },
  {
   "cell_type": "code",
   "execution_count": null,
   "metadata": {},
   "outputs": [],
   "source": [
    "# Display outlier records\n",
    "outliers[['Country', 'RemoteWork', 'ConvertedCompYearly', 'DevType', 'YearsCodePro']].sort_values(\n",
    "    by='ConvertedCompYearly', ascending=False\n",
    ").head(10)"
   ]
  },
  {
   "cell_type": "code",
   "execution_count": null,
   "metadata": {},
   "outputs": [],
   "source": [
    "import pandas as pd\n",
    "import numpy as np\n",
    "from scipy import stats\n",
    "\n",
    "# Load the dataset\n",
    "file_path = \"path_to_your_file.csv\"\n",
    "df = pd.read_csv(file_path)\n",
    "\n",
    "# Convert salary column to numeric (handling errors and missing values)\n",
    "df['ConvertedCompYearly'] = pd.to_numeric(df['ConvertedCompYearly'], errors='coerce')\n",
    "\n",
    "# Drop missing values in salary and remote work status\n",
    "df = df.dropna(subset=['RemoteWork', 'ConvertedCompYearly'])\n",
    "\n",
    "# Compute Q1, Q3, and IQR\n",
    "Q1 = df['ConvertedCompYearly'].quantile(0.25)\n",
    "Q3 = df['ConvertedCompYearly'].quantile(0.75)\n",
    "IQR = Q3 - Q1\n",
    "\n",
    "# Define lower and upper bounds for outliers\n",
    "lower_bound = max(0, Q1 - 1.5 * IQR)  # Salary cannot be negative\n",
    "upper_bound = Q3 + 1.5 * IQR\n",
    "\n",
    "# Create two datasets: one with outliers and one without\n",
    "df_no_outliers = df[(df['ConvertedCompYearly'] >= lower_bound) & (df['ConvertedCompYearly'] <= upper_bound)]\n",
    "df_with_outliers = df.copy()  # Keep original data without filtering\n",
    "\n",
    "# Extract salary data for remote and hybrid workers (without removing outliers)\n",
    "remote_salaries_all = df_with_outliers[df_with_outliers[\"RemoteWork\"] == \"Remote\"][\"ConvertedCompYearly\"]\n",
    "hybrid_salaries_all = df_with_outliers[df_with_outliers[\"RemoteWork\"] == \"Hybrid\"][\"ConvertedCompYearly\"]\n",
    "\n",
    "# Extract salary data for remote and hybrid workers (with IQR-based outlier removal)\n",
    "remote_salaries_iqr = df_no_outliers[df_no_outliers[\"RemoteWork\"] == \"Remote\"][\"ConvertedCompYearly\"]\n",
    "hybrid_salaries_iqr = df_no_outliers[df_no_outliers[\"RemoteWork\"] == \"Hybrid\"][\"ConvertedCompYearly\"]\n",
    "def manual_t_test(group1, group2):\n",
    "    # Compute sample means\n",
    "    mean1, mean2 = np.mean(group1), np.mean(group2)\n",
    "    \n",
    "    # Compute sample variances (unbiased estimator: ddof=1)\n",
    "    var1, var2 = np.var(group1, ddof=1), np.var(group2, ddof=1)\n",
    "    \n",
    "    # Compute sample sizes\n",
    "    n1, n2 = len(group1), len(group2)\n",
    "    \n",
    "    # Compute pooled standard deviation\n",
    "    pooled_std = np.sqrt(((n1 - 1) * var1 + (n2 - 1) * var2) / (n1 + n2 - 2))\n",
    "    \n",
    "    # Compute standard error of the mean difference\n",
    "    se_diff = pooled_std * np.sqrt(1 / n1 + 1 / n2)\n",
    "    \n",
    "    # Compute t-statistic\n",
    "    t_stat = (mean1 - mean2) / se_diff\n",
    "    \n",
    "    # Compute degrees of freedom\n",
    "    df = n1 + n2 - 2\n",
    "    \n",
    "    return t_stat, df\n",
    "\n",
    "# Perform manual t-test for both cases\n",
    "t_stat_all, df_all = manual_t_test(remote_salaries_all, hybrid_salaries_all)  # With outliers\n",
    "t_stat_iqr, df_iqr = manual_t_test(remote_salaries_iqr, hybrid_salaries_iqr)  # Without outliers\n",
    "\n",
    "# Perform two-sample t-test using scipy's built-in function\n",
    "t_stat_scipy_all, p_value_scipy_all = stats.ttest_ind(remote_salaries_all, hybrid_salaries_all, equal_var=True)\n",
    "t_stat_scipy_iqr, p_value_scipy_iqr = stats.ttest_ind(remote_salaries_iqr, hybrid_salaries_iqr, equal_var=True)\n",
    "\n",
    "# Print the results\n",
    "print(\"Manual t-test (With Outliers): t =\", t_stat_all, \", df =\", df_all)\n",
    "print(\"Scipy t-test (With Outliers): t =\", t_stat_scipy_all, \", p-value =\", p_value_scipy_all)\n",
    "\n",
    "print(\"\\nManual t-test (Without Outliers - IQR): t =\", t_stat_iqr, \", df =\", df_iqr)\n",
    "print(\"Scipy t-test (Without Outliers - IQR): t =\", t_stat_scipy_iqr, \", p-value =\", p_value_scipy_iqr)\n"
   ]
  }
 ],
 "metadata": {
  "kernelspec": {
   "display_name": "Python 3",
   "language": "python",
   "name": "python3"
  },
  "language_info": {
   "codemirror_mode": {
    "name": "ipython",
    "version": 3
   },
   "file_extension": ".py",
   "mimetype": "text/x-python",
   "name": "python",
   "nbconvert_exporter": "python",
   "pygments_lexer": "ipython3",
   "version": "3.13.0"
  }
 },
 "nbformat": 4,
 "nbformat_minor": 2
}
